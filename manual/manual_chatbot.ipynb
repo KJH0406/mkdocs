{
 "cells": [
  {
   "cell_type": "code",
   "execution_count": null,
   "metadata": {},
   "outputs": [],
   "source": [
    "# 시스템 모듈\n",
    "from dotenv import load_dotenv\n",
    "\n",
    "# 랭체인 모듈\n",
    "from langchain_community.vectorstores import FAISS\n",
    "from langchain_openai import OpenAIEmbeddings\n",
    "\n",
    "# 환경변수 로드\n",
    "load_dotenv()\n",
    "\n",
    "# 백터 DB 설정\n",
    "DB_INDEX = \"MANUAL_DB\"\n",
    "embeddings = OpenAIEmbeddings()\n",
    "vectorstore = FAISS.load_local(DB_INDEX, embeddings, allow_dangerous_deserialization=True)\n",
    "retriever = vectorstore.as_retriever()\n",
    "\n",
    "\n",
    "# 챗봇 설정\n",
    "query = \"김장호라는 사람\"\n",
    "res = retriever.invoke(query)\n",
    "\n",
    "print(len(res))\n",
    "for item in res:\n",
    "    print(item.metadata[\"source\"])\n",
    "    print(len(item.page_content))\n",
    "    print(\"------------------------\")\n"
   ]
  },
  {
   "cell_type": "markdown",
   "metadata": {},
   "source": []
  }
 ],
 "metadata": {
  "kernelspec": {
   "display_name": "Python 3.11.1 ('.venv': venv)",
   "language": "python",
   "name": "python3"
  },
  "language_info": {
   "codemirror_mode": {
    "name": "ipython",
    "version": 3
   },
   "file_extension": ".py",
   "mimetype": "text/x-python",
   "name": "python",
   "nbconvert_exporter": "python",
   "pygments_lexer": "ipython3",
   "version": "3.11.1"
  },
  "orig_nbformat": 4,
  "vscode": {
   "interpreter": {
    "hash": "abc1e4288430f75329ba14b6dd6d09e5c1673ff1f2133b911747bd014d0a7b67"
   }
  }
 },
 "nbformat": 4,
 "nbformat_minor": 2
}
