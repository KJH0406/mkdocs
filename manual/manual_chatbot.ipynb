{
 "cells": [
  {
   "cell_type": "code",
   "execution_count": null,
   "metadata": {},
   "outputs": [],
   "source": [
    "# 시스템 모듈\n",
    "import os\n",
    "from dotenv import load_dotenv\n",
    "\n",
    "# 랭체인 모듈\n",
    "from langchain_community.vectorstores import FAISS\n",
    "from langchain_openai import OpenAIEmbeddings\n",
    "from langchain.prompts import ChatPromptTemplate\n",
    "from langchain.schema.runnable import RunnableLambda, RunnablePassthrough\n",
    "from langchain.vectorstores.faiss import FAISS\n",
    "from langchain.chat_models import ChatOpenAI\n",
    "from langchain.memory import ConversationBufferMemory \n",
    "from langchain_core.prompts import MessagesPlaceholder\n",
    "\n",
    "# 환경변수 로드\n",
    "load_dotenv()\n",
    "\n",
    "# 벡터 DB 설정\n",
    "DB_INDEX = \"MANUAL_DB\"\n",
    "embeddings = OpenAIEmbeddings()\n",
    "vectorstore = FAISS.load_local(DB_INDEX, embeddings, allow_dangerous_deserialization=True)\n",
    "retriever = vectorstore.as_retriever(search_kwargs={\"k\": 4})\n",
    "\n",
    "# LLM 모델 설정\n",
    "llm = ChatOpenAI(\n",
    "    model_name=\"gpt-4o\",\n",
    "    temperature=0,\n",
    "    streaming=True,\n",
    ")\n",
    "\n",
    "# 프롬프트 템플릿\n",
    "prompt = ChatPromptTemplate.from_messages([\n",
    "    (\"system\",\n",
    "    \"\"\"\n",
    "    Answer the question using ONLY the following context.\n",
    "    If you don't know the answer just say you don't know. DON'T make anything up.\n",
    "\n",
    "    Context: {context}\n",
    "    \"\"\"),\n",
    "    MessagesPlaceholder(variable_name=\"chat_history\"),\n",
    "    (\"human\", \"{question}\"),\n",
    "])\n",
    "\n",
    "# 검색 증강 문서 처리\n",
    "def formatting_docs(docs):\n",
    "    unique_sources = set()\n",
    "    context = []\n",
    "    for doc in docs:\n",
    "        source = doc.metadata.get(\"source\", \"\")\n",
    "        if source not in unique_sources and os.path.exists(source):\n",
    "            unique_sources.add(source)\n",
    "            with open(source, 'r', encoding='utf-8') as file:\n",
    "                content = file.read()\n",
    "                context.append(content)\n",
    "    \n",
    "    return \"\\n\\n\".join(context)\n",
    "\n",
    "# 대화 메모리 설정\n",
    "memory = ConversationBufferMemory(return_messages=True, memory_key=\"chat_history\")\n",
    "\n",
    "# 체인 설정\n",
    "chain = {\n",
    "    \"context\": retriever | RunnableLambda(formatting_docs),\n",
    "    \"chat_history\": RunnableLambda(lambda _: memory.load_memory_variables({}).get('chat_history', [])),\n",
    "    \"question\": RunnablePassthrough()\n",
    "} | prompt | llm \n",
    "\n",
    "# 대화 메모리를 사용한 입력 및 출력 관리\n",
    "def run_chain_with_memory(query):\n",
    "    # 체인을 사용하여 응답 생성\n",
    "    response = chain.invoke(query)\n",
    "    # 대화 메모리에 응답 추가\n",
    "    memory.save_context(\n",
    "        inputs={\"human\": query},\n",
    "        outputs={\"ai\": response.content}\n",
    "    )\n",
    "    return response\n"
   ]
  },
  {
   "cell_type": "code",
   "execution_count": 64,
   "metadata": {},
   "outputs": [
    {
     "name": "stdout",
     "output_type": "stream",
     "text": [
      "김장호는 26세의 서비스 기획자입니다.\n"
     ]
    }
   ],
   "source": [
    "query = \"김장호가 누구인가요?\"\n",
    "response = run_chain_with_memory(query)\n",
    "\n",
    "print(response)"
   ]
  },
  {
   "cell_type": "code",
   "execution_count": 65,
   "metadata": {},
   "outputs": [
    {
     "name": "stdout",
     "output_type": "stream",
     "text": [
      "당신이 방금 전에 김장호가 누구인지 물어보았습니다.\n"
     ]
    }
   ],
   "source": [
    "query = \"내가 방금전에 어떤 내용을 물어보았나요?\"\n",
    "response = run_chain_with_memory(query)\n",
    "\n",
    "print(response)"
   ]
  },
  {
   "cell_type": "code",
   "execution_count": 66,
   "metadata": {},
   "outputs": [
    {
     "name": "stdout",
     "output_type": "stream",
     "text": [
      "[HumanMessage(content='내가 방금전에 어떤 내용을 물어보았나요?'), AIMessage(content='당신이 방금 전에 어떤 내용을 물어보았는지에 대한 정보는 제공된 컨텍스트에 포함되어 있지 않습니다.'), HumanMessage(content='김장호가 누구인가요?'), AIMessage(content='김장호는 26세의 서비스 기획자입니다.'), HumanMessage(content='내가 방금전에 어떤 내용을 물어보았나요?'), AIMessage(content='당신이 방금 전에 김장호가 누구인지 물어보았습니다.')]\n"
     ]
    }
   ],
   "source": [
    "print(memory.load_memory_variables({}).get('chat_history'))\n",
    "\n"
   ]
  },
  {
   "cell_type": "markdown",
   "metadata": {},
   "source": []
  }
 ],
 "metadata": {
  "kernelspec": {
   "display_name": "Python 3.11.1 ('.venv': venv)",
   "language": "python",
   "name": "python3"
  },
  "language_info": {
   "codemirror_mode": {
    "name": "ipython",
    "version": 3
   },
   "file_extension": ".py",
   "mimetype": "text/x-python",
   "name": "python",
   "nbconvert_exporter": "python",
   "pygments_lexer": "ipython3",
   "version": "3.11.1"
  },
  "orig_nbformat": 4,
  "vscode": {
   "interpreter": {
    "hash": "abc1e4288430f75329ba14b6dd6d09e5c1673ff1f2133b911747bd014d0a7b67"
   }
  }
 },
 "nbformat": 4,
 "nbformat_minor": 2
}
