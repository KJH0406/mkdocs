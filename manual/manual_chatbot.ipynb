{
 "cells": [
  {
   "cell_type": "code",
   "execution_count": 78,
   "metadata": {},
   "outputs": [],
   "source": [
    "# 시스템 모듈\n",
    "import os\n",
    "from dotenv import load_dotenv\n",
    "\n",
    "# 랭체인 모듈\n",
    "from langchain_community.vectorstores import FAISS\n",
    "from langchain_openai import OpenAIEmbeddings\n",
    "from langchain.prompts import ChatPromptTemplate\n",
    "from langchain.schema.runnable import RunnableLambda, RunnablePassthrough\n",
    "from langchain.vectorstores.faiss import FAISS\n",
    "from langchain.chat_models import ChatOpenAI\n",
    "from langchain.memory import ConversationBufferMemory \n",
    "from langchain_core.prompts import MessagesPlaceholder\n",
    "\n",
    "# 환경변수 로드\n",
    "load_dotenv()\n",
    "\n",
    "# 벡터 DB 설정\n",
    "DB_INDEX = \"MANUAL_DB\"\n",
    "embeddings = OpenAIEmbeddings()\n",
    "vectorstore = FAISS.load_local(DB_INDEX, embeddings, allow_dangerous_deserialization=True)\n",
    "retriever = vectorstore.as_retriever(search_kwargs={\"k\": 4})\n",
    "\n",
    "# LLM 모델 설정\n",
    "llm = ChatOpenAI(\n",
    "    model_name=\"gpt-4o\",\n",
    "    temperature=0,\n",
    "    streaming=True,\n",
    ")\n",
    "\n",
    "# 프롬프트 템플릿\n",
    "prompt = ChatPromptTemplate.from_messages([\n",
    "    (\"system\",\n",
    "    \"\"\"\n",
    "    Answer the question using ONLY the following context.\n",
    "    If you don't know the answer just say you don't know. DON'T make anything up.\n",
    "\n",
    "    Context: {context}\n",
    "    \"\"\"),\n",
    "    MessagesPlaceholder(variable_name=\"chat_history\"),\n",
    "    (\"human\", \"{question}\"),\n",
    "])\n",
    "\n",
    "# 검색 증강 문서 처리\n",
    "def formatting_docs(docs):\n",
    "    unique_sources = set()\n",
    "    context = []\n",
    "    for doc in docs:\n",
    "        source = doc.metadata.get(\"source\", \"\")\n",
    "        if source not in unique_sources and os.path.exists(source):\n",
    "            unique_sources.add(source)\n",
    "            with open(source, 'r', encoding='utf-8') as file:\n",
    "                content = file.read()\n",
    "                context.append(content)\n",
    "    \n",
    "    return \"\\n\\n\".join(context)\n",
    "\n",
    "# 대화 메모리 설정\n",
    "memory = ConversationBufferMemory(return_messages=True, memory_key=\"chat_history\")\n",
    "\n",
    "# 체인 설정\n",
    "chain = {\n",
    "    \"context\": retriever | RunnableLambda(formatting_docs),\n",
    "    \"chat_history\": RunnableLambda(lambda _: memory.load_memory_variables({}).get('chat_history', [])),\n",
    "    \"question\": RunnablePassthrough()\n",
    "} | prompt | llm \n",
    "\n",
    "# 대화 메모리를 사용한 입력 및 출력 관리\n",
    "def run_chain_with_memory(query):\n",
    "    # 체인을 사용하여 응답 생성\n",
    "    response = chain.invoke(query)\n",
    "    # 대화 메모리에 응답 추가\n",
    "    memory.save_context(\n",
    "        inputs={\"human\": query},\n",
    "        outputs={\"ai\": response.content}\n",
    "    )\n",
    "    return response\n"
   ]
  },
  {
   "cell_type": "code",
   "execution_count": 79,
   "metadata": {},
   "outputs": [
    {
     "name": "stdout",
     "output_type": "stream",
     "text": [
      "content='Git은 Linus Torvalds가 2005년에 개발한 분산 버전 관리 시스템(DVCS)입니다. 소프트웨어 개발 프로세스에서 소스 코드의 변경사항을 효과적으로 추적하고 관리하는 데 사용됩니다. Git의 주요 특징으로는 분산 버전 관리, 강력한 브랜칭 및 병합, 데이터 무결성, 스테이징 영역, 그리고 빠른 성능 등이 있습니다.' response_metadata={'finish_reason': 'stop'} id='run-7b7cf7ca-c42d-4866-8814-85a297251965-0'\n"
     ]
    }
   ],
   "source": [
    "query = \"git이 무엇인가요?\"\n",
    "response = run_chain_with_memory(query)\n",
    "\n",
    "print(response)"
   ]
  },
  {
   "cell_type": "code",
   "execution_count": 80,
   "metadata": {},
   "outputs": [
    {
     "name": "stdout",
     "output_type": "stream",
     "text": [
      "content='Git의 주요 특징은 다음과 같습니다:\\n\\n1. **분산 버전 관리**: 각 개발자가 전체 저장소의 복사본을 로컬에 가지고 있어, 네트워크 연결 없이도 작업할 수 있습니다.\\n\\n2. **브랜치 및 병합**: Git의 강력한 브랜칭 모델을 통해 여러 개발 라인을 동시에 관리할 수 있습니다.\\n\\n3. **데이터 무결성**: Git은 SHA-1 해시를 사용하여 모든 커밋과 파일의 무결성을 보장합니다.\\n\\n4. **스테이징 영역**: 변경사항을 커밋하기 전에 검토하고 구성할 수 있는 중간 영역을 제공합니다.\\n\\n5. **빠른 성능**: Git은 대부분의 작업을 로컬에서 수행하므로 매우 빠릅니다.' response_metadata={'finish_reason': 'stop'} id='run-50f122d0-b983-413c-821f-862ca99b5f8d-0'\n"
     ]
    }
   ],
   "source": [
    "query = \"주요 특징이 무엇인가요\"\n",
    "response = run_chain_with_memory(query)\n",
    "\n",
    "print(response)"
   ]
  },
  {
   "cell_type": "code",
   "execution_count": 77,
   "metadata": {},
   "outputs": [
    {
     "name": "stdout",
     "output_type": "stream",
     "text": [
      "[HumanMessage(content='김장호가 누구인가요?'), AIMessage(content='죄송하지만, 제공된 정보에는 김장호에 대한 언급이 없습니다. 추가 정보가 필요하다면 다른 출처를 참고하시기 바랍니다.'), HumanMessage(content='git이 무엇인가요?'), AIMessage(content='Git은 Linus Torvalds가 2005년에 개발한 분산 버전 관리 시스템(DVCS)입니다. 소프트웨어 개발 프로세스에서 소스 코드의 변경사항을 효과적으로 추적하고 관리하는 데 사용됩니다. 주요 특징으로는 분산 버전 관리, 강력한 브랜칭 및 병합 기능, 데이터 무결성 보장, 스테이징 영역 제공, 그리고 빠른 성능 등이 있습니다. Git은 중앙 집중식 버전 관리 시스템과 달리 오프라인 작업이 가능하고, 더 빠른 브랜칭 및 병합을 지원하며, 전체 프로젝트 히스토리에 대한 로컬 액세스를 제공합니다.'), HumanMessage(content='내가 방금전에 어떤 내용을 물어보았나요?'), AIMessage(content='당신은 \"김장호가 누구인가요?\"라고 물어보셨습니다.')]\n"
     ]
    }
   ],
   "source": [
    "print(memory.load_memory_variables({}).get('chat_history'))\n",
    "\n"
   ]
  },
  {
   "cell_type": "markdown",
   "metadata": {},
   "source": []
  }
 ],
 "metadata": {
  "kernelspec": {
   "display_name": "Python 3.11.1 ('.venv': venv)",
   "language": "python",
   "name": "python3"
  },
  "language_info": {
   "codemirror_mode": {
    "name": "ipython",
    "version": 3
   },
   "file_extension": ".py",
   "mimetype": "text/x-python",
   "name": "python",
   "nbconvert_exporter": "python",
   "pygments_lexer": "ipython3",
   "version": "3.11.1"
  },
  "orig_nbformat": 4,
  "vscode": {
   "interpreter": {
    "hash": "abc1e4288430f75329ba14b6dd6d09e5c1673ff1f2133b911747bd014d0a7b67"
   }
  }
 },
 "nbformat": 4,
 "nbformat_minor": 2
}
