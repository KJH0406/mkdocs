{
 "cells": [
  {
   "cell_type": "code",
   "execution_count": 1,
   "metadata": {},
   "outputs": [
    {
     "name": "stdout",
     "output_type": "stream",
     "text": [
      "Processing completed. Total documents: 106\n"
     ]
    }
   ],
   "source": [
    "# 시스템 모듈\n",
    "import os\n",
    "import yaml\n",
    "from dotenv import load_dotenv\n",
    "\n",
    "# 랭체인 모듈\n",
    "from langchain_community.document_loaders import UnstructuredFileLoader\n",
    "from langchain.text_splitter import RecursiveCharacterTextSplitter\n",
    "from langchain.storage import LocalFileStore\n",
    "from langchain.embeddings import CacheBackedEmbeddings\n",
    "from langchain_openai import OpenAIEmbeddings\n",
    "from langchain_community.vectorstores import FAISS\n",
    "\n",
    "# 환경변수 로드\n",
    "load_dotenv()\n",
    "\n",
    "# 매뉴얼 파일 및 캐싱 데이터 주소\n",
    "manual_data_dir = './docs'\n",
    "cache_dir = LocalFileStore(f\"./.cache/embeddings/data\")\n",
    "\n",
    "\n",
    "# 매뉴얼 파일 열기 및 읽기\n",
    "def load_and_parse_file(file_path):\n",
    "    with open(file_path, 'r', encoding='utf-8') as f:\n",
    "        content = f.read()\n",
    "    return content \n",
    "\n",
    "# 매뉴얼 파일 내의 YAML frontmatter 추출(Metadata)\n",
    "def extract_front_matter(content):\n",
    "    if content.startswith('---'):\n",
    "        end = content.find('---', 3)\n",
    "        if end != -1:\n",
    "            front_matter = content[3:end].strip()\n",
    "            try:\n",
    "                metadata = yaml.safe_load(front_matter)\n",
    "                return metadata\n",
    "            except yaml.YAMLError as e:\n",
    "                print(f\"Error parsing YAML: {e}\") \n",
    "    return {} \n",
    "\n",
    "# 스플리터 설정\n",
    "splitter = RecursiveCharacterTextSplitter.from_tiktoken_encoder(\n",
    "    chunk_size=800,\n",
    "    chunk_overlap=200,\n",
    ")\n",
    "\n",
    "# 매뉴얼 파일 로드 및 처리\n",
    "def process_markdown_file(file_path):\n",
    "    content = load_and_parse_file(file_path)\n",
    "    metadata = extract_front_matter(content)\n",
    "    \n",
    "    loader = UnstructuredFileLoader(file_path)\n",
    "    documents = loader.load()\n",
    "    \n",
    "    if documents:\n",
    "        document = documents[0]\n",
    "        document.metadata.update(metadata)\n",
    "        # 텍스트를 분할하고 메타데이터 포함\n",
    "        split_documents = splitter.create_documents([document.page_content], [document.metadata])\n",
    "        return split_documents\n",
    "    return []\n",
    "\n",
    "# 모든 마크다운 파일을 처리하여 docs 리스트에 저장\n",
    "docs = []\n",
    "\n",
    "for root, _, files in os.walk(manual_data_dir):\n",
    "    for file in files:\n",
    "        if file.endswith(\".md\"):\n",
    "            file_path = os.path.join(root, file)\n",
    "            documents = process_markdown_file(file_path)\n",
    "            if documents:\n",
    "                docs.extend(documents)  # 분할된 각 문서를 개별적으로 추가\n",
    "\n",
    "\n",
    "print(f\"Total documents: {len(docs)}\")\n",
    "\n",
    "# 임베딩 및 백터 저장소 생성\n",
    "embeddings = OpenAIEmbeddings()\n",
    "cached_embeddings = CacheBackedEmbeddings.from_bytes_store(embeddings, cache_dir)\n",
    "vectorstore = FAISS.from_documents(docs, cached_embeddings)\n",
    "DB_INDEX = \"MANUAL_DB\"\n",
    "vectorstore.save_local(DB_INDEX)"
   ]
  },
  {
   "cell_type": "code",
   "execution_count": null,
   "metadata": {},
   "outputs": [],
   "source": []
  }
 ],
 "metadata": {
  "kernelspec": {
   "display_name": "Python 3.11.1 ('.venv': venv)",
   "language": "python",
   "name": "python3"
  },
  "language_info": {
   "codemirror_mode": {
    "name": "ipython",
    "version": 3
   },
   "file_extension": ".py",
   "mimetype": "text/x-python",
   "name": "python",
   "nbconvert_exporter": "python",
   "pygments_lexer": "ipython3",
   "version": "3.11.1"
  },
  "orig_nbformat": 4,
  "vscode": {
   "interpreter": {
    "hash": "abc1e4288430f75329ba14b6dd6d09e5c1673ff1f2133b911747bd014d0a7b67"
   }
  }
 },
 "nbformat": 4,
 "nbformat_minor": 2
}
