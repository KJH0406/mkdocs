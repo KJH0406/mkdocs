{
 "cells": [
  {
   "cell_type": "code",
   "execution_count": null,
   "metadata": {},
   "outputs": [],
   "source": [
    "import os\n",
    "import yaml\n",
    "from langchain_community.document_loaders import UnstructuredFileLoader\n",
    "from langchain.text_splitter import RecursiveCharacterTextSplitter\n",
    "\n",
    "base_dir = './docs'\n",
    "\n",
    "def load_and_parse_file(file_path):\n",
    "    with open(file_path, 'r', encoding='utf-8') as f:\n",
    "        content = f.read()\n",
    "    return content \n",
    "\n",
    "def extract_front_matter(content):\n",
    "    if content.startswith('---'):\n",
    "        end = content.find('---', 3)\n",
    "        if end != -1:\n",
    "            front_matter = content[3:end].strip()\n",
    "            try:\n",
    "                metadata = yaml.safe_load(front_matter)\n",
    "                return metadata\n",
    "            except yaml.YAMLError as e:\n",
    "                print(f\"Error parsing YAML: {e}\") \n",
    "    return {} \n",
    "\n",
    "splitter = RecursiveCharacterTextSplitter.from_tiktoken_encoder(\n",
    "    chunk_size=800,\n",
    "    chunk_overlap=200,\n",
    ")\n",
    "\n",
    "def process_markdown_file(file_path):\n",
    "    content = load_and_parse_file(file_path)\n",
    "    metadata = extract_front_matter(content)\n",
    "    \n",
    "    loader = UnstructuredFileLoader(file_path)\n",
    "    documents = loader.load()\n",
    "    \n",
    "    if documents:\n",
    "        document = documents[0]\n",
    "        document.metadata.update(metadata)\n",
    "        # 텍스트를 분할하고 메타데이터 포함\n",
    "        split_documents = splitter.create_documents([document.page_content], [document.metadata])\n",
    "        return split_documents\n",
    "    return []\n",
    "\n",
    "# 모든 마크다운 파일을 처리하여 docs 리스트에 저장\n",
    "docs = []\n",
    "\n",
    "for root, _, files in os.walk(base_dir):\n",
    "    for file in files:\n",
    "        if file.endswith(\".md\"):\n",
    "            file_path = os.path.join(root, file)\n",
    "            documents = process_markdown_file(file_path)\n",
    "            if documents:\n",
    "                docs.extend(documents)  # 분할된 각 문서를 개별적으로 추가\n",
    "\n",
    "for doc in docs:\n",
    "    print(doc.page_content)\n",
    "    print(doc.metadata)\n",
    "    print(\"------------------------------\")\n"
   ]
  },
  {
   "cell_type": "markdown",
   "metadata": {},
   "source": []
  },
  {
   "cell_type": "code",
   "execution_count": null,
   "metadata": {},
   "outputs": [],
   "source": []
  },
  {
   "cell_type": "code",
   "execution_count": null,
   "metadata": {},
   "outputs": [],
   "source": []
  }
 ],
 "metadata": {
  "kernelspec": {
   "display_name": "Python 3.11.1 ('.venv': venv)",
   "language": "python",
   "name": "python3"
  },
  "language_info": {
   "codemirror_mode": {
    "name": "ipython",
    "version": 3
   },
   "file_extension": ".py",
   "mimetype": "text/x-python",
   "name": "python",
   "nbconvert_exporter": "python",
   "pygments_lexer": "ipython3",
   "version": "3.11.1"
  },
  "orig_nbformat": 4,
  "vscode": {
   "interpreter": {
    "hash": "abc1e4288430f75329ba14b6dd6d09e5c1673ff1f2133b911747bd014d0a7b67"
   }
  }
 },
 "nbformat": 4,
 "nbformat_minor": 2
}
